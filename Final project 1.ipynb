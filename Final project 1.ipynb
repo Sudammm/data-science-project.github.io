{
 "cells": [
  {
   "cell_type": "code",
   "execution_count": null,
   "id": "cb34f0b0-37c9-47ae-9b23-093c70c4d439",
   "metadata": {},
   "outputs": [],
   "source": [
    "import streamlit as st\n",
    "import pandas as pd\n",
    "from sklearn.model_selection import train_test_split\n",
    "from sklearn.ensemble import RandomForestRegressor\n",
    "from sklearn.metrics import mean_squared_error, r2_score\n",
    "import requests\n",
    "from io import BytesIO\n",
    "\n",
    "# Load the Amazon Stock dataset from the provided Kaggle link\n",
    "url = \"https://www.kaggle.com/datasets/deeplearner09/amazon-stock-dataset-1997-2021\"\n",
    "response = requests.get(url)\n",
    "df = pd.read_csv(BytesIO(response.content))\n",
    "# EDA - Display dataset summary\n",
    "st.title('Amazon Stock Dataset EDA (1997-2021)')\n",
    "st.write(\"Dataset summary:\")\n",
    "st.write(df.head())\n",
    "st.write(f\"Dataset shape: {df.shape}\")\n",
    "st.write(f\"Columns: {df.columns}\")\n",
    "\n",
    "# Data Preprocessing\n",
    "X = df.drop(['Date', 'Adj Close', 'Close'], axis=1)  # Features\n",
    "y = df['Adj Close']  # Target\n",
    "\n",
    "# Split the data into training and testing sets\n",
    "X_train, X_test, y_train, y_test = train_test_split(X, y, test_size=0.2, random_state=42)\n",
    "\n",
    "# Train a Random Forest Regressor model\n",
    "model = RandomForestRegressor()\n",
    "model.fit(X_train, y_train)\n",
    "\n",
    "# Model evaluation\n",
    "y_pred = model.predict(X_test)\n",
    "mse = mean_squared_error(y_test, y_pred)\n",
    "r2 = r2_score(y_test, y_pred)\n",
    "\n",
    "# Display model evaluation metrics\n",
    "st.write('Model Evaluation:')\n",
    "st.write(f'Mean Squared Error: {mse}')\n",
    "st.write(f'R^2 Score: {r2}')\n",
    "\n",
    "# Host the model for predictions\n",
    "input_data = st.text_input('Enter input data in the format: Open, High, Low, Volume')\n",
    "input_list = [float(x) for x in input_data.split(',')]  # Convert input string to a list of floats\n",
    "\n",
    "if st.button('Predict Stock Price'):\n",
    "    prediction = model.predict([input_list])\n",
    "    st.write(f'Predicted Adj Close Price: {prediction}')"
   ]
  }
 ],
 "metadata": {
  "kernelspec": {
   "display_name": "Python 3 (ipykernel)",
   "language": "python",
   "name": "python3"
  },
  "language_info": {
   "codemirror_mode": {
    "name": "ipython",
    "version": 3
   },
   "file_extension": ".py",
   "mimetype": "text/x-python",
   "name": "python",
   "nbconvert_exporter": "python",
   "pygments_lexer": "ipython3",
   "version": "3.11.7"
  }
 },
 "nbformat": 4,
 "nbformat_minor": 5
}
